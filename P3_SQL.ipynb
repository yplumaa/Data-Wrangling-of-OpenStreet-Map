{
 "cells": [
  {
   "cell_type": "markdown",
   "metadata": {},
   "source": [
    "# P3 OpenStreet Map Data with SQL"
   ]
  },
  {
   "cell_type": "code",
   "execution_count": 1,
   "metadata": {
    "collapsed": false,
    "scrolled": true
   },
   "outputs": [
    {
     "name": "stdout",
     "output_type": "stream",
     "text": [
      "[(151339751, 29.7705062, -95.4954973, u'davidearl', 3582, u'2', 177010, u'2008-12-06T18:17:40Z'), (151340813, 29.6638438, -95.6310571, u'davidearl', 3582, u'2', 177010, u'2008-12-06T18:17:45Z'), (151357671, 29.6680091, -95.4429963, u'davidearl', 3582, u'2', 177010, u'2008-12-06T18:18:47Z'), (151365266, 29.749123, -95.5721842, u'scottyc', 496606, u'4', 14675589, u'2013-01-16T18:17:48Z'), (151365267, 29.749119, -95.573012, u'woodpeck_fixbot', 147510, u'2', 3486233, u'2009-12-29T23:15:28Z'), (151365269, 29.748218, -95.572979, u'woodpeck_fixbot', 147510, u'2', 3486233, u'2009-12-29T23:15:28Z'), (151365270, 29.748182, -95.573085, u'woodpeck_fixbot', 147510, u'2', 3486233, u'2009-12-29T23:15:29Z'), (151365271, 29.748163, -95.573219, u'woodpeck_fixbot', 147510, u'2', 3486233, u'2009-12-29T23:15:29Z'), (151365273, 29.7478777, -95.5732226, u'afdreher', 1110270, u'5', 29148052, u'2015-02-28T01:59:18Z'), (151365344, 29.641142, -95.485489, u'woodpeck_fixbot', 147510, u'2', 3486233, u'2009-12-29T23:15:32Z')]\n"
     ]
    }
   ],
   "source": [
    "import sqlite3\n",
    "import codecs\n",
    "import csv\n",
    "import pprint\n",
    "\n",
    "def UnicodeDictReader(utf8_data, **kwargs):\n",
    "    csv_reader = csv.DictReader(utf8_data, **kwargs)\n",
    "    for row in csv_reader:\n",
    "        yield {key: unicode(value, 'utf-8') for key, value in row.iteritems()}\n",
    "        \n",
    "# Create a dabase file\n",
    "sqlite_file=\"HoustonSW_OSM.db\"\n",
    "db = sqlite3.connect(sqlite_file)\n",
    "#Create a cursor object\n",
    "c = db.cursor()\n",
    "# Create the table, specifying the column names and data types:\n",
    "c.execute('''\n",
    "    CREATE TABLE nodes(\n",
    "    nodeId INTEGER,\n",
    "    lat REAL, \n",
    "    lon REAL,\n",
    "    user TEXT,\n",
    "    uid INTEGER,\n",
    "    version TEXT,\n",
    "    changeset INTEGER,\n",
    "    timestamp TEXT,\n",
    "    PRIMARY KEY(nodeId))\n",
    "    ''')\n",
    "c.execute('''\n",
    "    CREATE TABLE nodes_tags(\n",
    "    nodeId INTEGER,\n",
    "    key TEXT,\n",
    "    value TEXT, \n",
    "    type TEXT,\n",
    "    FOREIGN KEY(nodeId) REFERENCES nodes(nodeId))\n",
    "    ''')\n",
    "c.execute('''\n",
    "    CREATE TABLE ways(\n",
    "    wayId INTEGER,\n",
    "    user TEXT,\n",
    "    uid INTEGER,\n",
    "    version TEXT,\n",
    "    changeset INTEGER,\n",
    "    timestamp TEXT,\n",
    "    PRIMARY KEY(wayId))\n",
    "    ''')\n",
    "c.execute('''\n",
    "    CREATE TABLE ways_nodes(\n",
    "    wayId INTEGER,\n",
    "    nodeId INTEGER,\n",
    "    position INTEGER, \n",
    "    FOREIGN KEY(wayId) REFERENCES ways(wayId),\n",
    "    FOREIGN KEY(nodeId) REFERENCES nodes(nodeId))\n",
    "    ''')\n",
    "c.execute('''\n",
    "    CREATE TABLE ways_tags(\n",
    "    wayId INTEGER,\n",
    "    key TEXT,\n",
    "    value TEXT, \n",
    "    type TEXT,\n",
    "    FOREIGN KEY(wayId) REFERENCES ways(wayId))\n",
    "    ''')\n",
    "\n",
    "# commit the changes\n",
    "db.commit()\n",
    "# Read in the csv file as a dictionary, format the\n",
    "# data as a list of tuples:\n",
    "#-------------------------------------------------------------------------------\n",
    "# Processing Nodes\n",
    "#--------------------------------------------------------------------------------\n",
    "with open('nodes.csv','rb') as fin:\n",
    "    dr = UnicodeDictReader(fin) # comma is default delimiter\n",
    "    to_db = [(i['id'], i['lat'],i['lon'], i['user'],\n",
    "              i['uid'],i['version'], i['changeset'],i['timestamp']) for i in dr]    \n",
    "# insert the formatted data\n",
    "c.executemany('''\n",
    "INSERT INTO nodes\n",
    " VALUES (?,?,?,?,?,?,?,?);\n",
    "''', to_db)\n",
    "#--------------------------------------------------------------------------------\n",
    "# Processing Node Tags\n",
    "#--------------------------------------------------------------------------------\n",
    "with open('nodes_tags.csv','rb') as fin:\n",
    "    dr = UnicodeDictReader(fin) # comma is default delimiter\n",
    "    to_db = [(i['id'], i['key'],i['value'], i['type']) for i in dr]    \n",
    "# insert the formatted data\n",
    "c.executemany('''\n",
    "INSERT INTO nodes_tags\n",
    " VALUES (?,?,?,?);\n",
    "''', to_db)\n",
    "#-------------------------------------------------------------------------------\n",
    "# Processing ways\n",
    "#--------------------------------------------------------------------------------\n",
    "with open('ways.csv','rb') as fin:\n",
    "    dr = UnicodeDictReader(fin) # comma is default delimiter\n",
    "    to_db = [(i['id'], i['user'],i['uid'], i['version'],\n",
    "              i['changeset'],i['timestamp']) for i in dr]    \n",
    "# insert the formatted data\n",
    "c.executemany('''\n",
    "INSERT INTO ways\n",
    " VALUES (?,?,?,?,?,?);\n",
    "''', to_db)\n",
    "#--------------------------------------------------------------------------------\n",
    "# Processing ways nodes\n",
    "#--------------------------------------------------------------------------------\n",
    "with open('ways_nodes.csv','rb') as fin:\n",
    "    dr = UnicodeDictReader(fin) # comma is default delimiter\n",
    "    to_db = [(i['id'], i['node_id'],i['position']) for i in dr]    \n",
    "# insert the formatted data\n",
    "c.executemany('''\n",
    "INSERT INTO ways_nodes\n",
    " VALUES (?,?,?);\n",
    "''', to_db)\n",
    "#--------------------------------------------------------------------------------\n",
    "# Processing way Tags\n",
    "#--------------------------------------------------------------------------------\n",
    "with open('ways_tags.csv','rb') as fin:\n",
    "    dr = UnicodeDictReader(fin) # comma is default delimiter\n",
    "    to_db = [(i['id'], i['key'],i['value'], i['type']) for i in dr]    \n",
    "# insert the formatted data\n",
    "c.executemany('''\n",
    "INSERT INTO ways_tags\n",
    " VALUES (?,?,?,?);\n",
    "''', to_db)\n",
    "#---------------------------------------------------------------------------------\n",
    "# commit the changes\n",
    "db.commit()\n",
    "# check\n",
    "c.execute('SELECT * FROM nodes LIMIT 10')\n",
    "all_rows = c.fetchall()\n",
    "print all_rows\n",
    "    \n",
    "#close db\n",
    "db.close()\n"
   ]
  },
  {
   "cell_type": "markdown",
   "metadata": {},
   "source": [
    "# Perform SQL queries"
   ]
  },
  {
   "cell_type": "code",
   "execution_count": 1,
   "metadata": {
    "collapsed": true
   },
   "outputs": [],
   "source": [
    "import sqlite3\n",
    "import pprint\n",
    "sqlite_file=\"HoustonSW_OSM.db\"\n",
    "db = sqlite3.connect(sqlite_file)\n",
    "c = db.cursor()"
   ]
  },
  {
   "cell_type": "markdown",
   "metadata": {},
   "source": [
    "## Number of Nodes"
   ]
  },
  {
   "cell_type": "code",
   "execution_count": 2,
   "metadata": {
    "collapsed": false
   },
   "outputs": [
    {
     "name": "stdout",
     "output_type": "stream",
     "text": [
      "number of nodes: \n",
      "[(285952,)]\n"
     ]
    }
   ],
   "source": [
    "c.execute('''\n",
    "SELECT COUNT(*) FROM nodes;\n",
    "''')\n",
    "all_rows = c.fetchall()\n",
    "print 'number of nodes: '\n",
    "pprint.pprint(all_rows)"
   ]
  },
  {
   "cell_type": "markdown",
   "metadata": {},
   "source": [
    "## Number of Ways"
   ]
  },
  {
   "cell_type": "code",
   "execution_count": 3,
   "metadata": {
    "collapsed": false
   },
   "outputs": [
    {
     "name": "stdout",
     "output_type": "stream",
     "text": [
      "number of ways:  [(57639,)]\n"
     ]
    }
   ],
   "source": [
    "c.execute('''\n",
    "SELECT COUNT(*) FROM ways;\n",
    "''')\n",
    "all_rows = c.fetchall()\n",
    "print 'number of ways: ', all_rows"
   ]
  },
  {
   "cell_type": "markdown",
   "metadata": {},
   "source": [
    "## Number of unique users"
   ]
  },
  {
   "cell_type": "code",
   "execution_count": 4,
   "metadata": {
    "collapsed": false
   },
   "outputs": [
    {
     "name": "stdout",
     "output_type": "stream",
     "text": [
      "number of unique users:  [(427,)]\n"
     ]
    }
   ],
   "source": [
    "c.execute('''\n",
    "SELECT COUNT(DISTINCT(u.uid)) \n",
    "FROM (SELECT uid FROM nodes\n",
    "UNION ALL SELECT uid FROM ways) as u;\n",
    "''')\n",
    "all_rows = c.fetchall()\n",
    "print 'number of unique users: ', all_rows"
   ]
  },
  {
   "cell_type": "markdown",
   "metadata": {},
   "source": [
    "## Number of Fast Food Restaurants"
   ]
  },
  {
   "cell_type": "code",
   "execution_count": 7,
   "metadata": {
    "collapsed": false
   },
   "outputs": [
    {
     "name": "stdout",
     "output_type": "stream",
     "text": [
      "number of fast_food restaurants:  [(121,)]\n"
     ]
    }
   ],
   "source": [
    "c.execute('''\n",
    "SELECT COUNT(*)\n",
    "FROM nodes_tags\n",
    "WHERE key='amenity' \n",
    "AND value='fast_food';\n",
    "''')\n",
    "all_rows = c.fetchall()\n",
    "print 'number of fast_food restaurants: ', all_rows"
   ]
  },
  {
   "cell_type": "markdown",
   "metadata": {},
   "source": [
    "## Nodes that are used"
   ]
  },
  {
   "cell_type": "code",
   "execution_count": 23,
   "metadata": {
    "collapsed": false
   },
   "outputs": [
    {
     "name": "stdout",
     "output_type": "stream",
     "text": [
      "number of used nodes:  [(285946,)]\n"
     ]
    }
   ],
   "source": [
    "c.execute('''\n",
    "SELECT COUNT(DISTINCT(used_nodes.nodeId)) as num_un\n",
    "FROM (SELECT nodeId from nodes_tags \n",
    "UNION ALL SELECT nodeId FROM ways_nodes) as used_nodes;\n",
    "''')\n",
    "all_rows = c.fetchall()\n",
    "print 'number of used nodes: ', all_rows"
   ]
  },
  {
   "cell_type": "markdown",
   "metadata": {},
   "source": [
    "# Nodes that are shared by nodes_tags & way_nodes"
   ]
  },
  {
   "cell_type": "code",
   "execution_count": 27,
   "metadata": {
    "collapsed": false
   },
   "outputs": [
    {
     "name": "stdout",
     "output_type": "stream",
     "text": [
      "number of shared node  [(8483,)]\n"
     ]
    }
   ],
   "source": [
    "c.execute('''\n",
    "SELECT COUNT(DISTINCT(nodeId))\n",
    "FROM nodes_tags\n",
    "WHERE nodeId in (SELECT DISTINCT(nodeId) FROM ways_nodes);\n",
    "''')\n",
    "all_rows = c.fetchall()\n",
    "print 'number of shared node ', all_rows"
   ]
  },
  {
   "cell_type": "code",
   "execution_count": 3,
   "metadata": {
    "collapsed": false
   },
   "outputs": [
    {
     "name": "stdout",
     "output_type": "stream",
     "text": [
      "shared nodes \n",
      "[(u'traffic_signals', 1996),\n",
      " (u'turning_circle', 1663),\n",
      " (u'tower', 1618),\n",
      " (u'crossing', 885),\n",
      " (u'pole', 742),\n",
      " (u'yes', 519),\n",
      " (u'gate', 392),\n",
      " (u'level_crossing', 285),\n",
      " (u'uncontrolled', 215),\n",
      " (u'motorway_junction', 168)]\n"
     ]
    }
   ],
   "source": [
    "c.execute('''\n",
    "SELECT nodes_tags.value, COUNT(DISTINCT(nodeId)) as num\n",
    "FROM nodes_tags\n",
    "WHERE nodeId in (SELECT DISTINCT(nodeId) FROM ways_nodes)\n",
    "GROUP BY nodes_tags.value\n",
    "ORDER BY num DESC\n",
    "LIMIT 10;\n",
    "''')\n",
    "all_rows = c.fetchall()\n",
    "print 'shared nodes '\n",
    "pprint.pprint(all_rows)"
   ]
  },
  {
   "cell_type": "code",
   "execution_count": 4,
   "metadata": {
    "collapsed": false
   },
   "outputs": [
    {
     "name": "stdout",
     "output_type": "stream",
     "text": [
      "Roads with most traffic Lights \n",
      "[(u'Westheimer Road', 198),\n",
      " (u'Richmond Avenue', 181),\n",
      " (u'Bellaire Boulevard', 147),\n",
      " (u'Bissonnet Street', 146),\n",
      " (u'Beechnut Street', 144),\n",
      " (u'Fondren Road', 100),\n",
      " (u'South Braeswood Boulevard', 98),\n",
      " (u'Southwest Freeway Frontage Road', 96),\n",
      " (u'Chimney Rock Road', 91),\n",
      " (u'Westpark Drive', 88)]\n"
     ]
    }
   ],
   "source": [
    "# This part of the code take a long time to finish\n",
    "c.execute('''\n",
    "SELECT ways_tags.value, COUNT (ways_nodes.nodeId) as num\n",
    "FROM (ways_nodes JOIN nodes_tags\n",
    "ON ways_nodes.nodeId=nodes_tags.nodeId)\n",
    "JOIN ways_tags \n",
    "ON (ways_tags.wayId=ways_nodes.wayId)\n",
    "WHERE nodes_tags.value==\"traffic_signals\" AND\n",
    "    ways_tags.key=\"name\"\n",
    "GROUP BY ways_tags.value\n",
    "ORDER BY num DESC\n",
    "LIMIT 10;\n",
    "''')\n",
    "all_rows = c.fetchall()\n",
    "print 'Roads with most traffic Lights '\n",
    "pprint.pprint(all_rows)"
   ]
  },
  {
   "cell_type": "code",
   "execution_count": null,
   "metadata": {
    "collapsed": true
   },
   "outputs": [],
   "source": []
  }
 ],
 "metadata": {
  "anaconda-cloud": {},
  "kernelspec": {
   "display_name": "Python [Root]",
   "language": "python",
   "name": "Python [Root]"
  },
  "language_info": {
   "codemirror_mode": {
    "name": "ipython",
    "version": 2
   },
   "file_extension": ".py",
   "mimetype": "text/x-python",
   "name": "python",
   "nbconvert_exporter": "python",
   "pygments_lexer": "ipython2",
   "version": "2.7.12"
  }
 },
 "nbformat": 4,
 "nbformat_minor": 0
}
